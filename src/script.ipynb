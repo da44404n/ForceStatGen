{
 "cells": [
  {
   "cell_type": "code",
   "execution_count": 1,
   "metadata": {},
   "outputs": [
    {
     "name": "stdout",
     "output_type": "stream",
     "text": [
      "Removed old output file.\n",
      "\n"
     ]
    }
   ],
   "source": [
    "import os\n",
    "\n",
    "from pandas import to_datetime\n",
    "from dateutil.relativedelta import relativedelta\n",
    "\n",
    "currentDirectory = os.getcwd()\n",
    "projectDirectory = os.path.dirname(currentDirectory)\n",
    "\n",
    "# Modify this to change the output file name.\n",
    "reportName = 'Force Stat Report'\n",
    "presentationName = 'Overview'\n",
    "templateName = 'Template'\n",
    "\n",
    "reportPath = f'{projectDirectory}\\\\output\\\\{reportName}.xlsx'\n",
    "presentationPath = f'{projectDirectory}\\\\output\\\\{presentationName}.pptx'\n",
    "templatePath = f'{projectDirectory}\\\\template\\\\{templateName}.pptx'\n",
    "\n",
    "# Modify this to get a CityWide or list of boroughs.\n",
    "cw = True\n",
    "boroList = ['PBBN']\n",
    "\n",
    "# Modify to change the date range.\n",
    "# Dates are in the format YYYY-MM-DD\n",
    "dateStartCurr = to_datetime(\"2024-06-10\")\n",
    "dateEndCurr = to_datetime(\"2024-07-07\")\n",
    "ytdCurr = to_datetime(\"2024-01-01\")\n",
    "\n",
    "dateStartPre = dateStartCurr - relativedelta(years=1)\n",
    "dateEndPre = dateEndCurr - relativedelta(years=1)\n",
    "ytdPre = ytdCurr - relativedelta(years=1)\n",
    "\n",
    "# Modify to change the path of the data files.\n",
    "incallPath = f'{projectDirectory}\\\\Data\\\\csv\\\\INCALL.csv'\n",
    "intallPath = f'{projectDirectory}\\\\Data\\\\csv\\\\INTALL.csv'\n",
    "arrestsPath = f'{projectDirectory}\\\\Data\\\\csv\\\\ARRESTS.csv'\n",
    "\n",
    "try:\n",
    "    if not cw and not boroList:\n",
    "        raise Exception(\"Please select CityWide or a borough.\")\n",
    "\n",
    "    if os.path.exists(f\"{reportPath}\"):\n",
    "        os.remove(f\"{reportPath}\")\n",
    "        print(\"Removed old output file.\\n\")\n",
    "    else:\n",
    "        print(\"File does not exist. Creating new file.\\n\")\n",
    "except PermissionError:\n",
    "    raise Exception(\"Output file must be closed to run the program.\")\n"
   ]
  },
  {
   "cell_type": "code",
   "execution_count": 2,
   "metadata": {},
   "outputs": [
    {
     "name": "stdout",
     "output_type": "stream",
     "text": [
      "Reading files...\n",
      "Done reading.\n",
      "\n"
     ]
    }
   ],
   "source": [
    "import read\n",
    "\n",
    "print('Reading files...')\n",
    "incall, intall, arrests = read.readData(incallPath, intallPath, arrestsPath)\n",
    "print('Done reading.\\n')\n"
   ]
  },
  {
   "cell_type": "code",
   "execution_count": 3,
   "metadata": {},
   "outputs": [
    {
     "name": "stdout",
     "output_type": "stream",
     "text": [
      "Cleaning incidents...\n",
      "Cleaned incidents.\n",
      "\n",
      "Cleaning interactions...\n",
      "Cleaned interactions.\n",
      "\n",
      "Cleaning arrests...\n",
      "Cleaned arrests.\n",
      "\n"
     ]
    }
   ],
   "source": [
    "import clean\n",
    "\n",
    "print('Cleaning incidents...')\n",
    "incall = clean.cleanINCALL(incall)\n",
    "print('Cleaned incidents.\\n')\n",
    "\n",
    "print('Cleaning interactions...')\n",
    "intall = clean.cleanINTALL(intall)\n",
    "print('Cleaned interactions.\\n')\n",
    "\n",
    "print('Cleaning arrests...')\n",
    "arrests = clean.cleanARRESTS(arrests)\n",
    "print('Cleaned arrests.\\n')"
   ]
  },
  {
   "cell_type": "code",
   "execution_count": 4,
   "metadata": {},
   "outputs": [
    {
     "name": "stdout",
     "output_type": "stream",
     "text": [
      "Setting date filters...\n",
      "Date filters set.\n",
      "\n"
     ]
    }
   ],
   "source": [
    "import reset\n",
    "\n",
    "print('Setting date filters...')\n",
    "\n",
    "(currentIncidentPeriod, currentIncidentYTD, currentInteractionPeriod, currentInteractionYTD,\n",
    "previousIncidentPeriod, previousIncidentYTD, previousInteractionPeriod, previousInteractionYTD,\n",
    "currentArrestPeriod, currentArrestYTD, previousArrestPeriod, previousArrestYTD\n",
    ") = reset.reset(incall,intall,arrests,dateStartCurr,dateEndCurr,dateStartPre,dateEndPre,ytdCurr,ytdPre)\n",
    "\n",
    "print('Date filters set.\\n')"
   ]
  },
  {
   "cell_type": "code",
   "execution_count": 5,
   "metadata": {},
   "outputs": [],
   "source": [
    "from pandas import DataFrame\n",
    "\n",
    "dateDict = { 'Date Start:' : [dateStartCurr.strftime('%m/%d/%Y')], 'Date End:' : [dateEndCurr.strftime('%m/%d/%Y')]}\n",
    "dateDataFrame = DataFrame(dateDict)\n",
    "dateDataFrame.index = ['Date:']\n",
    "dateDataFrame.index.name = 'Period'"
   ]
  },
  {
   "cell_type": "code",
   "execution_count": 6,
   "metadata": {},
   "outputs": [
    {
     "name": "stdout",
     "output_type": "stream",
     "text": [
      "Building CityWide tables...\n",
      "CityWide tables built.\n",
      "\n"
     ]
    }
   ],
   "source": [
    "import cwSummary\n",
    "import cwBreakdown\n",
    "\n",
    "cwTablesDict = {}\n",
    "\n",
    "if cw == True:\n",
    "    print('Building CityWide tables...')\n",
    "\n",
    "    summaryDataFrames = cwSummary.periodSummary(currentIncidentPeriod, currentIncidentYTD, currentInteractionPeriod, currentInteractionYTD,\n",
    "    previousIncidentPeriod, previousIncidentYTD, previousInteractionPeriod, previousInteractionYTD,\n",
    "    currentArrestPeriod, currentArrestYTD, previousArrestPeriod, previousArrestYTD)\n",
    "\n",
    "    breakdownDataFrames = cwBreakdown.periodBreakdown(currentIncidentPeriod, currentIncidentYTD, currentInteractionPeriod, currentArrestPeriod)\n",
    "\n",
    "    summaryDataFrames = [dateDataFrame] + summaryDataFrames\n",
    "    breakdownDataFrames = [dateDataFrame] + breakdownDataFrames\n",
    "\n",
    "    cwTablesDict[\"CityWide Period Summary\"] = summaryDataFrames\n",
    "    cwTablesDict[\"CityWide Period Breakdown\"] = breakdownDataFrames\n",
    "\n",
    "    print(\"CityWide tables built.\\n\")"
   ]
  },
  {
   "cell_type": "code",
   "execution_count": 7,
   "metadata": {},
   "outputs": [],
   "source": [
    "import overviewPpt\n",
    "\n",
    "overviewPpt.fillPresentation(templatePath, presentationPath, summaryDataFrames, breakdownDataFrames, dateStartCurr, dateEndCurr)"
   ]
  },
  {
   "cell_type": "code",
   "execution_count": 8,
   "metadata": {},
   "outputs": [
    {
     "name": "stdout",
     "output_type": "stream",
     "text": [
      "Building borough tables...\n",
      "Borough tables built.\n",
      "\n"
     ]
    }
   ],
   "source": [
    "import importlib\n",
    "import boroSummary\n",
    "import boroBreakdown\n",
    "importlib.reload(boroBreakdown)\n",
    "\n",
    "boroTablesDict = {}\n",
    "\n",
    "for boro in boroList:\n",
    "    print('Building borough tables...')\n",
    "\n",
    "    summaryBoroDataFrames = boroSummary.boroSummary(boro, currentIncidentPeriod, currentIncidentYTD, currentInteractionPeriod, currentInteractionYTD,\n",
    "                    previousIncidentPeriod, previousIncidentYTD, previousInteractionPeriod, previousInteractionYTD,\n",
    "                    currentArrestPeriod, currentArrestYTD, previousArrestPeriod, previousArrestYTD)\n",
    "    \n",
    "    breakdownBoroDataFrames = boroBreakdown.boroBreakdown(boro, currentIncidentPeriod, currentIncidentYTD, currentInteractionPeriod, currentArrestPeriod)\n",
    "\n",
    "    summaryBoroDataFrames = [dateDataFrame] + summaryBoroDataFrames\n",
    "    breakdownBoroDataFrames = [dateDataFrame] + breakdownBoroDataFrames\n",
    "\n",
    "    boroTablesDict[f\"{boro} Summmary\"] = summaryBoroDataFrames\n",
    "    boroTablesDict[f\"{boro} Breakdown\"] = breakdownBoroDataFrames\n",
    "\n",
    "    print(\"Borough tables built.\\n\")"
   ]
  },
  {
   "cell_type": "code",
   "execution_count": 9,
   "metadata": {},
   "outputs": [
    {
     "name": "stdout",
     "output_type": "stream",
     "text": [
      "Outputting to Excel...\n",
      "Output to c:\\Users\\robwo\\Desktop\\CS\\nypd\\Python\\ForceStatGen\\output\\Force Stat Report.xlsx\n",
      "\n"
     ]
    }
   ],
   "source": [
    "import output\n",
    "\n",
    "outputDict = cwTablesDict | boroTablesDict\n",
    "\n",
    "print(\"Outputting to Excel...\")\n",
    "\n",
    "output.outputToExcel(outputDict, reportPath)\n",
    "\n",
    "print(f\"Output to {reportPath}\\n\")"
   ]
  }
 ],
 "metadata": {
  "kernelspec": {
   "display_name": "pandas",
   "language": "python",
   "name": "python3"
  },
  "language_info": {
   "codemirror_mode": {
    "name": "ipython",
    "version": 3
   },
   "file_extension": ".py",
   "mimetype": "text/x-python",
   "name": "python",
   "nbconvert_exporter": "python",
   "pygments_lexer": "ipython3",
   "version": "3.11.0"
  }
 },
 "nbformat": 4,
 "nbformat_minor": 2
}
